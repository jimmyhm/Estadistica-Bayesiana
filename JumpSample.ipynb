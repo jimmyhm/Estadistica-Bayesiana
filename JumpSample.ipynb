{
 "cells": [
  {
   "cell_type": "markdown",
   "metadata": {},
   "source": [
    "# Muestreo reversible de saltos"
   ]
  },
  {
   "cell_type": "code",
   "execution_count": 5,
   "metadata": {
    "slideshow": {
     "slide_type": "slide"
    }
   },
   "outputs": [],
   "source": [
    "from matplotlib import*\n",
    "from pylab import*\n",
    "from scipy import*\n",
    "from numpy.random import*\n",
    "%matplotlib inline\n",
    "import numpy.random \n",
    "import scipy.stats as stat\n",
    "pylab.rcParams['figure.figsize'] = (10.5, 6.5)\n",
    "from scipy import stats\n",
    "import matplotlib.pyplot"
   ]
  },
  {
   "cell_type": "raw",
   "metadata": {
    "slideshow": {
     "slide_type": "slide"
    }
   },
   "source": [
    "### Introducción\n",
    "Supongamos que tenemos una muestra  $y_1,...,y_n$  donde:\n",
    "$$ \n",
    "y_i=\\sum_{j=0}^M \\beta_j x_i^j+\\epsilon_i, \\text{ donde } \\epsilon_i\\sim N(\\epsilon| 0,1), i\\in J_m,\n",
    "$$\n",
    "con $x_1,\\ldots,x_n$ variables conocidas, $\\beta\\in \\mathbb{R}$ un vector de parametros desconocidos y \n",
    "$M\\in \\lbrace 0,..., M_{max}\\rbrace$.\n",
    "Es decir, $y$ es una función lineal de algún polinomio en $\\beta$, pero,  el orden del polinomio en $x$ es desconocido. \n",
    "#### Objetivo del trabajo\n",
    "1. Generar una muestra de la distribución final de los parámetros $M, \\beta$ dado $\\bar{X},\\bar{Y}$.\n",
    "2. Hacer inferencias sobre $M$ (Grado del polinomio) y valores de $\\beta$.\n",
    "3. Elegir el módelo mas probable.\n",
    "\n",
    "Observaciones: En esta distribución, el grado del modelo es desconocido por lo que hay varias opciones para elegir un modelo para los datos. Los posibles modelos son: \n",
    "\\begin{eqnarray}\n",
    "y_i&=&\\beta_0 \\\\\n",
    "y_i&=&\\beta_0+\\beta_1x_i \\\\\n",
    "y_i&=&\\beta_0+\\beta_1x_i+\\beta_2x_i^2 \\\\\n",
    "\\end{eqnarray}\n"
   ]
  },
  {
   "cell_type": "markdown",
   "metadata": {
    "slideshow": {
     "slide_type": "slide"
    }
   },
   "source": [
    "A continuación vamos a leer y graficar los datos que nos fue proporcionado."
   ]
  },
  {
   "cell_type": "code",
   "execution_count": 3,
   "metadata": {
    "slideshow": {
     "slide_type": "subslide"
    }
   },
   "outputs": [],
   "source": [
    "fileData=open(\"data.txt\",'r')\n",
    "xcor=[]\n",
    "ycor=[]\n",
    "for line in fileData.readlines():\n",
    "    xcor.append(line.split()[0])\n",
    "    ycor.append(line.split()[1])\n",
    "n=len(xcor)\n",
    "x=[float(xcor[i]) for i in range(len(xcor))]\n",
    "y=[float(ycor[i]) for i in range(len(ycor))]    "
   ]
  },
  {
   "cell_type": "code",
   "execution_count": 6,
   "metadata": {
    "slideshow": {
     "slide_type": "subslide"
    }
   },
   "outputs": [
    {
     "data": {
      "image/png": "[encoded data removed]",
      "text/plain": [
       "<matplotlib.figure.Figure at 0x8462ef0>"
      ]
     },
     "metadata": {},
     "output_type": "display_data"
    }
   ],
   "source": [
    "title(\"Grafica de los datos\")\n",
    "xlabel(\"x\")\n",
    "ylabel(\"y\")\n",
    "plot(xcor,ycor,\".\")\n",
    "show()"
   ]
  },
  {
   "cell_type": "raw",
   "metadata": {
    "slideshow": {
     "slide_type": "slide"
    }
   },
   "source": [
    "## Algoritmo \n",
    "1. Damos la semilla $(m_0,\\beta_0)$ \n",
    "2. Generamos  $m\\in [0,1,2]$\n",
    "3. Generamos $\\beta \\sim N(\\boldsymbol 0, 2\\boldsymbol I )$ de dimensión $m_t+1$\n",
    "4. Generamos $u\\sim Unif(0,1)$\\\\\n",
    "Sea $W=(m,\\beta)$\n",
    "Si\n",
    "$$\n",
    "u\\leqslant \\min \\left[ \\frac{p(W|D)g_{m_{t}}(\\beta)}{p(m_{t-1},\\beta_{t-1}|D)g_{m_{t-1}}(\\beta_{t-1})},1 \\right]\n",
    "$$\n",
    "Actualizamos $(m_t,\\beta_t)=W$ y en caso contrario $(m_t,\\beta_t)=(m_{t-1},\\beta_{t-1})$\n",
    "5. Hacemos $t=t+1$ y repetimos 2.\n",
    "\n",
    "## Implementación"
   ]
  },
  {
   "cell_type": "code",
   "execution_count": 7,
   "metadata": {
    "slideshow": {
     "slide_type": "slide"
    }
   },
   "outputs": [],
   "source": [
    "def evalDensity(vec):\n",
    "    gm=0\n",
    "    if(len(vec)==1):\n",
    "        gm = stat.norm.pdf(vec,0,2)[0]\n",
    "    else:\n",
    "        gm = stat.multivariate_normal.pdf(vec,zeros(len(vec)), 2*identity(len(vec)))\n",
    "    return gm"
   ]
  },
  {
   "cell_type": "code",
   "execution_count": 8,
   "metadata": {
    "slideshow": {
     "slide_type": "fragment"
    }
   },
   "outputs": [],
   "source": [
    "def sumaInt(b,x):\n",
    "    suma=0\n",
    "    for i in range(len(b)):\n",
    "        suma+=b[i]*x**(i)\n",
    "    return suma \n",
    "\n",
    "def sumExt(x,y,b,n):\n",
    "    suma=0\n",
    "    for i in range(0,n,1):\n",
    "        suma+=(y[i]-sumaInt(b,x[i]))**2\n",
    "    coc=double(exp(-0.5*suma))\n",
    "    return coc\n",
    "    \n"
   ]
  },
  {
   "cell_type": "code",
   "execution_count": 9,
   "metadata": {
    "slideshow": {
     "slide_type": "slide"
    }
   },
   "outputs": [],
   "source": [
    "m_0=0\n",
    "b_0=uniform(0,1,1)\n",
    "b_0=[b_0[i] for i in range(len(b_0))]\n",
    "#dim=m_t[0]+1"
   ]
  },
  {
   "cell_type": "code",
   "execution_count": 10,
   "metadata": {
    "scrolled": true,
    "slideshow": {
     "slide_type": "subslide"
    }
   },
   "outputs": [],
   "source": [
    "m=[]\n",
    "b=[]\n",
    "m.append(m_0)\n",
    "b.append(b_0)\n",
    "t=1\n",
    "while(t<=10e4):\n",
    "    m_t=choice(3, 1, replace=False)[0]\n",
    "    dim=m_t+1\n",
    "    beta=0\n",
    "    if(dim==1):\n",
    "        beta=normal(zeros(dim),identity(dim),1)[0]\n",
    "        beta=[beta]   \n",
    "    elif(dim>=2):\n",
    "        beta=multivariate_normal(zeros(dim),identity(dim),1).T    \n",
    "        beta=[beta[i][0] for i in range(len(beta))]\n",
    "    coc=evalDensity(beta)/evalDensity(b[t-1])\n",
    "    coc1=double(sumExt(x,y,beta,n))/double(sumExt(x,y,b[t-1],n))\n",
    "    coc2=coc*coc1\n",
    "    u=uniform(0,1,1)\n",
    "    if(u<=min(1,coc2)):\n",
    "        m.append(m_t)\n",
    "        b.append(beta)  \n",
    "    else:\n",
    "        m.append(m[t-1])\n",
    "        b.append(b[t-1])\n",
    "    t=t+1 "
   ]
  },
  {
   "cell_type": "code",
   "execution_count": 11,
   "metadata": {
    "slideshow": {
     "slide_type": "slide"
    }
   },
   "outputs": [
    {
     "data": {
      "image/png": "[encoded data removed]",
      "text/plain": [
       "<matplotlib.figure.Figure at 0x86ac7b8>"
      ]
     },
     "metadata": {},
     "output_type": "display_data"
    }
   ],
   "source": [
    "num_bins=5\n",
    "title(\"Histograma de las M\")\n",
    "hist(m,num_bins, facecolor='green')\n",
    "show()"
   ]
  },
  {
   "cell_type": "markdown",
   "metadata": {
    "slideshow": {
     "slide_type": "slide"
    }
   },
   "source": [
    "### Modelo constante, lineal, cuadratico "
   ]
  },
  {
   "cell_type": "code",
   "execution_count": 47,
   "metadata": {
    "slideshow": {
     "slide_type": "fragment"
    }
   },
   "outputs": [],
   "source": [
    "vde0=[]\n",
    "vde1=[]\n",
    "for i in range (len(b)):\n",
    "    if(len(b[i])==2):\n",
    "        vde0.append(b[i][0])\n",
    "        vde1.append(b[i][1])\n"
   ]
  },
  {
   "cell_type": "code",
   "execution_count": 45,
   "metadata": {
    "slideshow": {
     "slide_type": "subslide"
    }
   },
   "outputs": [
    {
     "data": {
      "image/png": "[encoded data removed]",
      "text/plain": [
       "<matplotlib.figure.Figure at 0xb320b38>"
      ]
     },
     "metadata": {},
     "output_type": "display_data"
    }
   ],
   "source": [
    "pylab.rcParams['figure.figsize'] = (14, 8)\n",
    "num_bins=10\n",
    "subplot(221)\n",
    "title(\"Histograma de las\" r'$\\beta_0$')\n",
    "hist(vde0,num_bins, facecolor='green')\n",
    "subplot(222)\n",
    "title(\"Histograma de las\" r'$\\beta_1$')\n",
    "hist(vde1,num_bins, facecolor='green')\n",
    "show()\n"
   ]
  },
  {
   "cell_type": "code",
   "execution_count": 46,
   "metadata": {
    "slideshow": {
     "slide_type": "slide"
    }
   },
   "outputs": [
    {
     "name": "stdout",
     "output_type": "stream",
     "text": [
      "los coeficientes de modelo son\n",
      "1.54319511919\n",
      "-0.387743365655\n"
     ]
    }
   ],
   "source": [
    "vd0=stats.describe(vde0)[2]\n",
    "vd1=stats.describe(vde1)[2]\n",
    "print \"los coeficientes de modelo son\"\n",
    "print vd0\n",
    "print vd1"
   ]
  },
  {
   "cell_type": "code",
   "execution_count": 35,
   "metadata": {
    "slideshow": {
     "slide_type": "subslide"
    }
   },
   "outputs": [
    {
     "data": {
      "text/plain": [
       "<matplotlib.legend.Legend at 0xab2ce48>"
      ]
     },
     "execution_count": 35,
     "metadata": {},
     "output_type": "execute_result"
    },
    {
     "data": {
      "image/png": "[encoded data removed]",
      "text/plain": [
       "<matplotlib.figure.Figure at 0xb69b4e0>"
      ]
     },
     "metadata": {},
     "output_type": "display_data"
    }
   ],
   "source": [
    "def ajuste0(x):\n",
    "    return vd0+vd1*x\n",
    "\n",
    "xv=linspace(0,5,100)\n",
    "yv=ajuste0(xval)\n",
    "plot(xv,yv,label=\"y=1.54-0.38x\")\n",
    "plot(xcor,ycor,\".\",label=\"datos\")\n",
    "legend()"
   ]
  },
  {
   "cell_type": "code",
   "execution_count": 48,
   "metadata": {
    "scrolled": true,
    "slideshow": {
     "slide_type": "slide"
    }
   },
   "outputs": [],
   "source": [
    "b0=[]\n",
    "b1=[]\n",
    "b2=[]\n",
    "for i in range (len(b)):\n",
    "    if(len(b[i])==3):\n",
    "        b0.append(b[i][0])\n",
    "        b1.append(b[i][1])\n",
    "        b2.append(b[i][2])"
   ]
  },
  {
   "cell_type": "code",
   "execution_count": 49,
   "metadata": {
    "slideshow": {
     "slide_type": "subslide"
    }
   },
   "outputs": [
    {
     "data": {
      "image/png": "[encoded data removed]",
      "text/plain": [
       "<matplotlib.figure.Figure at 0xb7384a8>"
      ]
     },
     "metadata": {},
     "output_type": "display_data"
    }
   ],
   "source": [
    "pylab.rcParams['figure.figsize'] = (16, 8)\n",
    "num_bins=10\n",
    "subplot(221)\n",
    "title(\"Histograma de las\" r'$\\beta_0$')\n",
    "hist(b0,num_bins, facecolor='green')\n",
    "subplot(222)\n",
    "title(\"Histograma de las\" r'$\\beta_1$')\n",
    "hist(b1,num_bins, facecolor='green')\n",
    "subplot(223)\n",
    "title(\"Histograma de las\" r'$\\beta_2$')\n",
    "hist(b2,num_bins, facecolor='green')\n",
    "show()"
   ]
  },
  {
   "cell_type": "code",
   "execution_count": 50,
   "metadata": {
    "slideshow": {
     "slide_type": "subslide"
    }
   },
   "outputs": [
    {
     "name": "stdout",
     "output_type": "stream",
     "text": [
      "y=0.974149846777x +0.540425673661 x^2 -0.264962835344x^3 \n"
     ]
    }
   ],
   "source": [
    "beta0=stats.describe(b0)[2]\n",
    "beta1=stats.describe(b1)[2]\n",
    "beta2=stats.describe(b2)[2]\n",
    "print \"y=\"+str(beta0)+\"x +\"+str(beta1)+\" x^2 \"+str(beta2)+\"x^3 \""
   ]
  },
  {
   "cell_type": "markdown",
   "metadata": {
    "slideshow": {
     "slide_type": "slide"
    }
   },
   "source": [
    "### Modelo que ajusta a los datos "
   ]
  },
  {
   "cell_type": "code",
   "execution_count": 51,
   "metadata": {
    "slideshow": {
     "slide_type": "fragment"
    }
   },
   "outputs": [
    {
     "data": {
      "text/plain": [
       "<matplotlib.legend.Legend at 0xb738550>"
      ]
     },
     "execution_count": 51,
     "metadata": {},
     "output_type": "execute_result"
    },
    {
     "data": {
      "image/png": "[encoded data removed]",
      "text/plain": [
       "<matplotlib.figure.Figure at 0xc07ea20>"
      ]
     },
     "metadata": {},
     "output_type": "display_data"
    }
   ],
   "source": [
    "def ajuste(x):\n",
    "    return beta0+beta1*x+beta2*x**2\n",
    "\n",
    "xval=linspace(0,5,100)\n",
    "yval=ajuste(xval)\n",
    "plot(xval,yval,label=\"y=0.97x+0.54x^2-0.26x^3\")\n",
    "plot(xcor,ycor,\".\", label=\"datos\")\n",
    "legend()"
   ]
  },
  {
   "cell_type": "markdown",
   "metadata": {
    "slideshow": {
     "slide_type": "slide"
    }
   },
   "source": [
    "### Conclusiones "
   ]
  },
  {
   "cell_type": "raw",
   "metadata": {
    "slideshow": {
     "slide_type": "fragment"
    }
   },
   "source": [
    "El modelo mas probable fue el tercero ya que la proporción con $m=2$ fue notablemente mayor.\n",
    "Los estimadores de $\\beta_0,\\beta_1,\\beta_2$ para el modelo cuadrático son: \n",
    "\\begin{eqnarray}\n",
    "\\beta_0&=&0.974149846777\\\\\n",
    "\\beta_1&=&0.540425673661\\\\ \n",
    "\\beta_2&=&-0.264962835344x^3 \n",
    "\\end{eqnarray}\n",
    "El polinomio que mejor aproxima el compotamiento de nuestros datos es:\n",
    "$$\n",
    "y=0.974149846777x +0.540425673661 x^2 -0.264962835344x^3 \n",
    "$$"
   ]
  },
  {
   "cell_type": "code",
   "execution_count": null,
   "metadata": {
    "collapsed": true
   },
   "outputs": [],
   "source": []
  }
 ],
 "metadata": {
  "anaconda-cloud": {},
  "celltoolbar": "Slideshow",
  "kernelspec": {
   "display_name": "Python 3",
   "language": "python",
   "name": "python3"
  },
  "language_info": {
   "codemirror_mode": {
    "name": "ipython",
    "version": 3
   },
   "file_extension": ".py",
   "mimetype": "text/x-python",
   "name": "python",
   "nbconvert_exporter": "python",
   "pygments_lexer": "ipython3",
   "version": "3.6.3"
  }
 },
 "nbformat": 4,
 "nbformat_minor": 1
}
